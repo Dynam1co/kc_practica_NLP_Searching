{
 "nbformat": 4,
 "nbformat_minor": 2,
 "metadata": {
  "language_info": {
   "name": "python",
   "codemirror_mode": {
    "name": "ipython",
    "version": 3
   },
   "version": "3.7.6-final"
  },
  "orig_nbformat": 2,
  "file_extension": ".py",
  "mimetype": "text/x-python",
  "name": "python",
  "npconvert_exporter": "python",
  "pygments_lexer": "ipython3",
  "version": 3,
  "kernelspec": {
   "name": "python37664bittfgpuconda4815d6332dd1431691508f462cd4b2ad",
   "display_name": "Python 3.7.6 64-bit ('tf-gpu': conda)"
  }
 },
 "cells": [
  {
   "cell_type": "markdown",
   "metadata": {},
   "source": [
    "# Tratamiento inicial de datos del segundo dataset\n",
    "Después del tratamiento inicial de datos, generaré un nuevo dataset para no tener que repetir este proceso de nuevo."
   ]
  },
  {
   "cell_type": "code",
   "execution_count": 32,
   "metadata": {},
   "outputs": [],
   "source": [
    "import numpy as np\n",
    "import pandas as pd\n",
    "import os\n",
    "import io\n",
    "import matplotlib.pyplot as plt\n",
    "\n",
    "# Permitir ver columnas completas\n",
    "pd.set_option('display.max_colwidth', None)"
   ]
  },
  {
   "cell_type": "code",
   "execution_count": 33,
   "metadata": {},
   "outputs": [],
   "source": [
    "def load_data(ruta, nombre):\n",
    "    path = os.path.join(ruta, nombre)    \n",
    "    return pd.read_json(path, encoding=\"ISO-8859-1\")"
   ]
  },
  {
   "cell_type": "markdown",
   "metadata": {},
   "source": [
    "# Análisis exploratorio"
   ]
  },
  {
   "cell_type": "code",
   "execution_count": 34,
   "metadata": {},
   "outputs": [
    {
     "data": {
      "text/html": "<div>\n<style scoped>\n    .dataframe tbody tr th:only-of-type {\n        vertical-align: middle;\n    }\n\n    .dataframe tbody tr th {\n        vertical-align: top;\n    }\n\n    .dataframe thead th {\n        text-align: right;\n    }\n</style>\n<table border=\"1\" class=\"dataframe\">\n  <thead>\n    <tr style=\"text-align: right;\">\n      <th></th>\n      <th>0</th>\n      <th>1</th>\n      <th>2</th>\n      <th>3</th>\n      <th>4</th>\n      <th>5</th>\n      <th>6</th>\n      <th>7</th>\n      <th>8</th>\n      <th>9</th>\n      <th>...</th>\n      <th>5879</th>\n      <th>5880</th>\n      <th>5881</th>\n      <th>5882</th>\n      <th>5883</th>\n      <th>5884</th>\n      <th>5885</th>\n      <th>5886</th>\n      <th>5887</th>\n      <th>5888</th>\n    </tr>\n  </thead>\n  <tbody>\n    <tr>\n      <th>tweet</th>\n      <td>“Low plastic stool, cheap but delicious noodles, cold Hanoi beer.” This is how I’ll remember Tony. He taught us about food — but more importantly, about its ability to bring us together. To make us a little less afraid of the unknown. We’ll miss him. https://t.co/orEXIaEMZM</td>\n      <td>“Low plastic stool, cheap but delicious noodles, cold Hanoi beer.” This is how I’ll remember Tony. He taught us about food — but more importantly, about its ability to bring us together. To make us a little less afraid of the unknown. We’ll miss him. https://t.co/orEXIaEMZM</td>\n      <td>This National Gun Violence Awareness Day, show your commitment to keeping our kids safe from gun violence. Then, for everyone we’ve lost, take action to change our leadership and our laws until they reflect that commitment - no matter how long it takes. https://t.co/lraIwlQAgl</td>\n      <td>We can never truly repay the debt we owe our fallen heroes. But we can remember them, honor their sacrifice, and affirm in our own lives those enduring ideals of justice, equality, and opportunity for which generations of Americans have given that last full measure of devotion. https://t.co/pRxwmaMClL</td>\n      <td>This Center is for the leaders of tomorrow who are ready to step up and build the world as it should be. Michelle and I are grateful to Chicagoans and the Chicago City Council for making it happen. https://t.co/86uiJ55azV</td>\n      <td>Happy Mother’s Day to every mom out there, especially the remarkable moms in my life, @MichelleObama and my mother-in-law, Marian Robinson. https://t.co/n65fyWg7O8</td>\n      <td>There are few issues more important to the security of the US than the potential spread of nuclear weapons or the potential for even more destructive war in the Middle East. Today’s decision to put the JCPOA at risk is a serious mistake. My full statement: https://t.co/4oTdXESbxe</td>\n      <td>These talented young people will create a better future not just in Africa, but around the world. I can’t wait to spend some time with @ObamaFoundation Leaders and look forward to honoring the Mandela legacy in Johannesburg this summer. https://t.co/b73wGIW4Gj</td>\n      <td>Our statement on the passing of Former First Lady Barbara Bush: https://t.co/MhTVYCL9Nj</td>\n      <td>Incredible to have a Chicago team in the Final Four. I’ll take that over an intact bracket any day! Congratulations to everybody @LoyolaChicago - let’s keep it going!</td>\n      <td>...</td>\n      <td>Just heard Fake News CNN is doing polls again despite the fact that their election polls were a WAY OFF disaster. Much higher ratings at Fox</td>\n      <td>The real story that Congress, the FBI and all others should be looking into is the leaking of Classified information. Must find leaker now!</td>\n      <td>The Democrats made up and pushed the Russian story as an excuse for running a terrible campaign. Big advantage in Electoral College &amp;amp; lost!</td>\n      <td>James Clapper and others stated that there is no evidence Potus colluded with Russia. This story is FAKE NEWS and everyone knows it!</td>\n      <td>#ICYMI: Weekly Address \\n➡️https://t.co/ckVx2zgA1x https://t.co/dTGZLvlsGv</td>\n      <td>...vast sums of money to NATO &amp;amp; the United States must be paid more for the powerful, and very expensive, defense it provides to Germany!</td>\n      <td>Despite what you have heard from the FAKE NEWS, I had a GREAT meeting with German Chancellor Angela Merkel. Nevertheless, Germany owes.....</td>\n      <td>Great meeting with the @RepublicanStudy Committee this morning at the @WhiteHouse! https://t.co/8Y2UoHoYaY</td>\n      <td>\"The President Changed. So Has Small Businesses' Confidence\"\\nhttps://t.co/daTGjPmYeJ</td>\n      <td>North Korea is behaving very badly. They have been \"playing\" the United States for years. China has done little to help!</td>\n    </tr>\n    <tr>\n      <th>label</th>\n      <td>OBAMA</td>\n      <td>OBAMA</td>\n      <td>OBAMA</td>\n      <td>OBAMA</td>\n      <td>OBAMA</td>\n      <td>OBAMA</td>\n      <td>OBAMA</td>\n      <td>OBAMA</td>\n      <td>OBAMA</td>\n      <td>OBAMA</td>\n      <td>...</td>\n      <td>TRUMP</td>\n      <td>TRUMP</td>\n      <td>TRUMP</td>\n      <td>TRUMP</td>\n      <td>TRUMP</td>\n      <td>TRUMP</td>\n      <td>TRUMP</td>\n      <td>TRUMP</td>\n      <td>TRUMP</td>\n      <td>TRUMP</td>\n    </tr>\n  </tbody>\n</table>\n<p>2 rows × 5889 columns</p>\n</div>",
      "text/plain": "                                                                                                                                                                                                                                                                                     0     \\\ntweet  “Low plastic stool, cheap but delicious noodles, cold Hanoi beer.” This is how I’ll remember Tony. He taught us about food — but more importantly, about its ability to bring us together. To make us a little less afraid of the unknown. We’ll miss him. https://t.co/orEXIaEMZM   \nlabel                                                                                                                                                                                                                                                                               OBAMA   \n\n                                                                                                                                                                                                                                                                                     1     \\\ntweet  “Low plastic stool, cheap but delicious noodles, cold Hanoi beer.” This is how I’ll remember Tony. He taught us about food — but more importantly, about its ability to bring us together. To make us a little less afraid of the unknown. We’ll miss him. https://t.co/orEXIaEMZM   \nlabel                                                                                                                                                                                                                                                                               OBAMA   \n\n                                                                                                                                                                                                                                                                                        2     \\\ntweet  This National Gun Violence Awareness Day, show your commitment to keeping our kids safe from gun violence. Then, for everyone we’ve lost, take action to change our leadership and our laws until they reflect that commitment - no matter how long it takes. https://t.co/lraIwlQAgl   \nlabel                                                                                                                                                                                                                                                                                  OBAMA   \n\n                                                                                                                                                                                                                                                                                                                 3     \\\ntweet  We can never truly repay the debt we owe our fallen heroes. But we can remember them, honor their sacrifice, and affirm in our own lives those enduring ideals of justice, equality, and opportunity for which generations of Americans have given that last full measure of devotion. https://t.co/pRxwmaMClL   \nlabel                                                                                                                                                                                                                                                                                                           OBAMA   \n\n                                                                                                                                                                                                                                4     \\\ntweet  This Center is for the leaders of tomorrow who are ready to step up and build the world as it should be. Michelle and I are grateful to Chicagoans and the Chicago City Council for making it happen. https://t.co/86uiJ55azV   \nlabel                                                                                                                                                                                                                          OBAMA   \n\n                                                                                                                                                                      5     \\\ntweet  Happy Mother’s Day to every mom out there, especially the remarkable moms in my life, @MichelleObama and my mother-in-law, Marian Robinson. https://t.co/n65fyWg7O8   \nlabel                                                                                                                                                                OBAMA   \n\n                                                                                                                                                                                                                                                                                           6     \\\ntweet  There are few issues more important to the security of the US than the potential spread of nuclear weapons or the potential for even more destructive war in the Middle East. Today’s decision to put the JCPOA at risk is a serious mistake. My full statement: https://t.co/4oTdXESbxe   \nlabel                                                                                                                                                                                                                                                                                     OBAMA   \n\n                                                                                                                                                                                                                                                                       7     \\\ntweet  These talented young people will create a better future not just in Africa, but around the world. I can’t wait to spend some time with @ObamaFoundation Leaders and look forward to honoring the Mandela legacy in Johannesburg this summer. https://t.co/b73wGIW4Gj   \nlabel                                                                                                                                                                                                                                                                 OBAMA   \n\n                                                                                          8     \\\ntweet  Our statement on the passing of Former First Lady Barbara Bush: https://t.co/MhTVYCL9Nj   \nlabel                                                                                    OBAMA   \n\n                                                                                                                                                                         9     \\\ntweet  Incredible to have a Chicago team in the Final Four. I’ll take that over an intact bracket any day! Congratulations to everybody @LoyolaChicago - let’s keep it going!   \nlabel                                                                                                                                                                   OBAMA   \n\n       ...  \\\ntweet  ...   \nlabel  ...   \n\n                                                                                                                                               5879  \\\ntweet  Just heard Fake News CNN is doing polls again despite the fact that their election polls were a WAY OFF disaster. Much higher ratings at Fox   \nlabel                                                                                                                                         TRUMP   \n\n                                                                                                                                              5880  \\\ntweet  The real story that Congress, the FBI and all others should be looking into is the leaking of Classified information. Must find leaker now!   \nlabel                                                                                                                                        TRUMP   \n\n                                                                                                                                                  5881  \\\ntweet  The Democrats made up and pushed the Russian story as an excuse for running a terrible campaign. Big advantage in Electoral College &amp; lost!   \nlabel                                                                                                                                            TRUMP   \n\n                                                                                                                                       5882  \\\ntweet  James Clapper and others stated that there is no evidence Potus colluded with Russia. This story is FAKE NEWS and everyone knows it!   \nlabel                                                                                                                                 TRUMP   \n\n                                                                             5883  \\\ntweet  #ICYMI: Weekly Address \\n➡️https://t.co/ckVx2zgA1x https://t.co/dTGZLvlsGv   \nlabel                                                                       TRUMP   \n\n                                                                                                                                                5884  \\\ntweet  ...vast sums of money to NATO &amp; the United States must be paid more for the powerful, and very expensive, defense it provides to Germany!   \nlabel                                                                                                                                          TRUMP   \n\n                                                                                                                                              5885  \\\ntweet  Despite what you have heard from the FAKE NEWS, I had a GREAT meeting with German Chancellor Angela Merkel. Nevertheless, Germany owes.....   \nlabel                                                                                                                                        TRUMP   \n\n                                                                                                             5886  \\\ntweet  Great meeting with the @RepublicanStudy Committee this morning at the @WhiteHouse! https://t.co/8Y2UoHoYaY   \nlabel                                                                                                       TRUMP   \n\n                                                                                        5887  \\\ntweet  \"The President Changed. So Has Small Businesses' Confidence\"\\nhttps://t.co/daTGjPmYeJ   \nlabel                                                                                  TRUMP   \n\n                                                                                                                           5888  \ntweet  North Korea is behaving very badly. They have been \"playing\" the United States for years. China has done little to help!  \nlabel                                                                                                                     TRUMP  \n\n[2 rows x 5889 columns]"
     },
     "execution_count": 34,
     "metadata": {},
     "output_type": "execute_result"
    }
   ],
   "source": [
    "df = load_data('data', 'dataset_2.json')\n",
    "df.head()"
   ]
  },
  {
   "cell_type": "markdown",
   "metadata": {},
   "source": [
    "Trasponemos para conseguir un dataframe tipo \"clave\" \"valor\", renombramos y reordenamos las columnas"
   ]
  },
  {
   "cell_type": "code",
   "execution_count": 35,
   "metadata": {},
   "outputs": [
    {
     "data": {
      "text/html": "<div>\n<style scoped>\n    .dataframe tbody tr th:only-of-type {\n        vertical-align: middle;\n    }\n\n    .dataframe tbody tr th {\n        vertical-align: top;\n    }\n\n    .dataframe thead th {\n        text-align: right;\n    }\n</style>\n<table border=\"1\" class=\"dataframe\">\n  <thead>\n    <tr style=\"text-align: right;\">\n      <th></th>\n      <th>president</th>\n      <th>tweet</th>\n    </tr>\n  </thead>\n  <tbody>\n    <tr>\n      <th>0</th>\n      <td>OBAMA</td>\n      <td>“Low plastic stool, cheap but delicious noodles, cold Hanoi beer.” This is how I’ll remember Tony. He taught us about food — but more importantly, about its ability to bring us together. To make us a little less afraid of the unknown. We’ll miss him. https://t.co/orEXIaEMZM</td>\n    </tr>\n    <tr>\n      <th>1</th>\n      <td>OBAMA</td>\n      <td>“Low plastic stool, cheap but delicious noodles, cold Hanoi beer.” This is how I’ll remember Tony. He taught us about food — but more importantly, about its ability to bring us together. To make us a little less afraid of the unknown. We’ll miss him. https://t.co/orEXIaEMZM</td>\n    </tr>\n    <tr>\n      <th>2</th>\n      <td>OBAMA</td>\n      <td>This National Gun Violence Awareness Day, show your commitment to keeping our kids safe from gun violence. Then, for everyone we’ve lost, take action to change our leadership and our laws until they reflect that commitment - no matter how long it takes. https://t.co/lraIwlQAgl</td>\n    </tr>\n    <tr>\n      <th>3</th>\n      <td>OBAMA</td>\n      <td>We can never truly repay the debt we owe our fallen heroes. But we can remember them, honor their sacrifice, and affirm in our own lives those enduring ideals of justice, equality, and opportunity for which generations of Americans have given that last full measure of devotion. https://t.co/pRxwmaMClL</td>\n    </tr>\n    <tr>\n      <th>4</th>\n      <td>OBAMA</td>\n      <td>This Center is for the leaders of tomorrow who are ready to step up and build the world as it should be. Michelle and I are grateful to Chicagoans and the Chicago City Council for making it happen. https://t.co/86uiJ55azV</td>\n    </tr>\n  </tbody>\n</table>\n</div>",
      "text/plain": "  president  \\\n0     OBAMA   \n1     OBAMA   \n2     OBAMA   \n3     OBAMA   \n4     OBAMA   \n\n                                                                                                                                                                                                                                                                                                            tweet  \n0                              “Low plastic stool, cheap but delicious noodles, cold Hanoi beer.” This is how I’ll remember Tony. He taught us about food — but more importantly, about its ability to bring us together. To make us a little less afraid of the unknown. We’ll miss him. https://t.co/orEXIaEMZM  \n1                              “Low plastic stool, cheap but delicious noodles, cold Hanoi beer.” This is how I’ll remember Tony. He taught us about food — but more importantly, about its ability to bring us together. To make us a little less afraid of the unknown. We’ll miss him. https://t.co/orEXIaEMZM  \n2                           This National Gun Violence Awareness Day, show your commitment to keeping our kids safe from gun violence. Then, for everyone we’ve lost, take action to change our leadership and our laws until they reflect that commitment - no matter how long it takes. https://t.co/lraIwlQAgl  \n3  We can never truly repay the debt we owe our fallen heroes. But we can remember them, honor their sacrifice, and affirm in our own lives those enduring ideals of justice, equality, and opportunity for which generations of Americans have given that last full measure of devotion. https://t.co/pRxwmaMClL  \n4                                                                                   This Center is for the leaders of tomorrow who are ready to step up and build the world as it should be. Michelle and I are grateful to Chicagoans and the Chicago City Council for making it happen. https://t.co/86uiJ55azV  "
     },
     "execution_count": 35,
     "metadata": {},
     "output_type": "execute_result"
    }
   ],
   "source": [
    "df = df.T\n",
    "df.columns = ['tweet','president']\n",
    "df = df[['president','tweet']]\n",
    "df.head()"
   ]
  },
  {
   "cell_type": "code",
   "execution_count": 36,
   "metadata": {},
   "outputs": [
    {
     "data": {
      "text/plain": "(5889, 2)"
     },
     "execution_count": 36,
     "metadata": {},
     "output_type": "execute_result"
    }
   ],
   "source": [
    "df.shape"
   ]
  },
  {
   "cell_type": "code",
   "execution_count": 37,
   "metadata": {},
   "outputs": [
    {
     "name": "stdout",
     "output_type": "stream",
     "text": "<class 'pandas.core.frame.DataFrame'>\nInt64Index: 5889 entries, 0 to 5888\nData columns (total 2 columns):\n #   Column     Non-Null Count  Dtype \n---  ------     --------------  ----- \n 0   president  5889 non-null   object\n 1   tweet      5889 non-null   object\ndtypes: object(2)\nmemory usage: 298.0+ KB\n"
    }
   ],
   "source": [
    "df.info()"
   ]
  },
  {
   "cell_type": "code",
   "execution_count": 38,
   "metadata": {},
   "outputs": [
    {
     "data": {
      "text/html": "<div>\n<style scoped>\n    .dataframe tbody tr th:only-of-type {\n        vertical-align: middle;\n    }\n\n    .dataframe tbody tr th {\n        vertical-align: top;\n    }\n\n    .dataframe thead th {\n        text-align: right;\n    }\n</style>\n<table border=\"1\" class=\"dataframe\">\n  <thead>\n    <tr style=\"text-align: right;\">\n      <th></th>\n      <th>president</th>\n      <th>tweet</th>\n    </tr>\n  </thead>\n  <tbody>\n    <tr>\n      <th>count</th>\n      <td>5889</td>\n      <td>5889</td>\n    </tr>\n    <tr>\n      <th>unique</th>\n      <td>2</td>\n      <td>5723</td>\n    </tr>\n    <tr>\n      <th>top</th>\n      <td>TRUMP</td>\n      <td>Spoke to U.K. Prime Minister Theresa May today to offer condolences on the terrorist attack in London. She is strong and doing very well.</td>\n    </tr>\n    <tr>\n      <th>freq</th>\n      <td>2995</td>\n      <td>111</td>\n    </tr>\n  </tbody>\n</table>\n</div>",
      "text/plain": "       president  \\\ncount       5889   \nunique         2   \ntop        TRUMP   \nfreq        2995   \n\n                                                                                                                                            tweet  \ncount                                                                                                                                        5889  \nunique                                                                                                                                       5723  \ntop     Spoke to U.K. Prime Minister Theresa May today to offer condolences on the terrorist attack in London. She is strong and doing very well.  \nfreq                                                                                                                                          111  "
     },
     "execution_count": 38,
     "metadata": {},
     "output_type": "execute_result"
    }
   ],
   "source": [
    "df.describe()"
   ]
  },
  {
   "cell_type": "markdown",
   "metadata": {},
   "source": [
    "# Analizar distribución de los tweets de cada presidente"
   ]
  },
  {
   "cell_type": "code",
   "execution_count": 39,
   "metadata": {},
   "outputs": [
    {
     "name": "stdout",
     "output_type": "stream",
     "text": "President:\nTRUMP    2995\nOBAMA    2894\nName: president, dtype: int64\n"
    }
   ],
   "source": [
    "print('President:')\n",
    "print(df['president'].value_counts())"
   ]
  },
  {
   "cell_type": "code",
   "execution_count": 40,
   "metadata": {},
   "outputs": [
    {
     "data": {
      "image/png": "[encoded data removed]",
      "image/svg+xml": "<?xml version=\"1.0\" encoding=\"utf-8\" standalone=\"no\"?>\r\n<!DOCTYPE svg PUBLIC \"-//W3C//DTD SVG 1.1//EN\"\r\n  \"http://www.w3.org/Graphics/SVG/1.1/DTD/svg11.dtd\">\r\n<!-- Created with matplotlib (https://matplotlib.org/) -->\r\n<svg height=\"296.398125pt\" version=\"1.1\" viewBox=\"0 0 424.8 296.398125\" width=\"424.8pt\" xmlns=\"http://www.w3.org/2000/svg\" xmlns:xlink=\"http://www.w3.org/1999/xlink\">\r\n <defs>\r\n  <style type=\"text/css\">\r\n*{stroke-linecap:butt;stroke-linejoin:round;}\r\n  </style>\r\n </defs>\r\n <g id=\"figure_1\">\r\n  <g id=\"patch_1\">\r\n   <path d=\"M 0 296.398125 \r\nL 424.8 296.398125 \r\nL 424.8 0 \r\nL 0 0 \r\nz\r\n\" style=\"fill:none;\"/>\r\n  </g>\r\n  <g id=\"axes_1\">\r\n   <g id=\"patch_2\">\r\n    <path d=\"M 212.193566 34.907216 \r\nC 196.055432 34.907216 180.079699 38.139261 165.211939 44.412053 \r\nC 150.344179 50.684845 136.883627 59.872135 125.626986 71.430145 \r\nC 114.370345 82.988156 105.54417 96.684266 99.670866 111.70783 \r\nC 93.797561 126.731393 90.995336 142.780041 91.430047 158.903885 \r\nC 91.864758 175.027729 95.527658 190.902254 102.201945 205.587879 \r\nC 108.876232 220.273504 118.427578 233.474659 130.290657 244.409996 \r\nC 142.153737 255.345332 156.089789 263.79476 171.273966 269.258176 \r\nC 186.458143 274.721591 202.584842 277.089034 218.699557 276.220381 \r\nL 212.193566 155.65141 \r\nL 212.193566 34.907216 \r\nz\r\n\" style=\"fill:#1f77b4;\"/>\r\n   </g>\r\n   <g id=\"patch_3\">\r\n    <path d=\"M 218.699557 276.220381 \r\nC 250.11923 274.526725 279.666251 260.62945 300.998582 237.511498 \r\nC 322.330913 214.393546 333.804664 183.836408 332.957086 152.398935 \r\nC 332.109507 120.961463 319.005913 91.066256 296.458888 69.130089 \r\nC 273.911863 47.193922 243.658902 34.907216 212.193566 34.907216 \r\nL 212.193566 155.65141 \r\nL 218.699557 276.220381 \r\nz\r\n\" style=\"fill:#ff7f0e;\"/>\r\n   </g>\r\n   <g id=\"matplotlib.axis_1\"/>\r\n   <g id=\"matplotlib.axis_2\"/>\r\n   <g id=\"text_1\">\r\n    <!-- 50.9% -->\r\n    <defs>\r\n     <path d=\"M 10.796875 72.90625 \r\nL 49.515625 72.90625 \r\nL 49.515625 64.59375 \r\nL 19.828125 64.59375 \r\nL 19.828125 46.734375 \r\nQ 21.96875 47.46875 24.109375 47.828125 \r\nQ 26.265625 48.1875 28.421875 48.1875 \r\nQ 40.625 48.1875 47.75 41.5 \r\nQ 54.890625 34.8125 54.890625 23.390625 \r\nQ 54.890625 11.625 47.5625 5.09375 \r\nQ 40.234375 -1.421875 26.90625 -1.421875 \r\nQ 22.3125 -1.421875 17.546875 -0.640625 \r\nQ 12.796875 0.140625 7.71875 1.703125 \r\nL 7.71875 11.625 \r\nQ 12.109375 9.234375 16.796875 8.0625 \r\nQ 21.484375 6.890625 26.703125 6.890625 \r\nQ 35.15625 6.890625 40.078125 11.328125 \r\nQ 45.015625 15.765625 45.015625 23.390625 \r\nQ 45.015625 31 40.078125 35.4375 \r\nQ 35.15625 39.890625 26.703125 39.890625 \r\nQ 22.75 39.890625 18.8125 39.015625 \r\nQ 14.890625 38.140625 10.796875 36.28125 \r\nz\r\n\" id=\"DejaVuSans-53\"/>\r\n     <path d=\"M 31.78125 66.40625 \r\nQ 24.171875 66.40625 20.328125 58.90625 \r\nQ 16.5 51.421875 16.5 36.375 \r\nQ 16.5 21.390625 20.328125 13.890625 \r\nQ 24.171875 6.390625 31.78125 6.390625 \r\nQ 39.453125 6.390625 43.28125 13.890625 \r\nQ 47.125 21.390625 47.125 36.375 \r\nQ 47.125 51.421875 43.28125 58.90625 \r\nQ 39.453125 66.40625 31.78125 66.40625 \r\nz\r\nM 31.78125 74.21875 \r\nQ 44.046875 74.21875 50.515625 64.515625 \r\nQ 56.984375 54.828125 56.984375 36.375 \r\nQ 56.984375 17.96875 50.515625 8.265625 \r\nQ 44.046875 -1.421875 31.78125 -1.421875 \r\nQ 19.53125 -1.421875 13.0625 8.265625 \r\nQ 6.59375 17.96875 6.59375 36.375 \r\nQ 6.59375 54.828125 13.0625 64.515625 \r\nQ 19.53125 74.21875 31.78125 74.21875 \r\nz\r\n\" id=\"DejaVuSans-48\"/>\r\n     <path d=\"M 10.6875 12.40625 \r\nL 21 12.40625 \r\nL 21 0 \r\nL 10.6875 0 \r\nz\r\n\" id=\"DejaVuSans-46\"/>\r\n     <path d=\"M 10.984375 1.515625 \r\nL 10.984375 10.5 \r\nQ 14.703125 8.734375 18.5 7.8125 \r\nQ 22.3125 6.890625 25.984375 6.890625 \r\nQ 35.75 6.890625 40.890625 13.453125 \r\nQ 46.046875 20.015625 46.78125 33.40625 \r\nQ 43.953125 29.203125 39.59375 26.953125 \r\nQ 35.25 24.703125 29.984375 24.703125 \r\nQ 19.046875 24.703125 12.671875 31.3125 \r\nQ 6.296875 37.9375 6.296875 49.421875 \r\nQ 6.296875 60.640625 12.9375 67.421875 \r\nQ 19.578125 74.21875 30.609375 74.21875 \r\nQ 43.265625 74.21875 49.921875 64.515625 \r\nQ 56.59375 54.828125 56.59375 36.375 \r\nQ 56.59375 19.140625 48.40625 8.859375 \r\nQ 40.234375 -1.421875 26.421875 -1.421875 \r\nQ 22.703125 -1.421875 18.890625 -0.6875 \r\nQ 15.09375 0.046875 10.984375 1.515625 \r\nz\r\nM 30.609375 32.421875 \r\nQ 37.25 32.421875 41.125 36.953125 \r\nQ 45.015625 41.5 45.015625 49.421875 \r\nQ 45.015625 57.28125 41.125 61.84375 \r\nQ 37.25 66.40625 30.609375 66.40625 \r\nQ 23.96875 66.40625 20.09375 61.84375 \r\nQ 16.21875 57.28125 16.21875 49.421875 \r\nQ 16.21875 41.5 20.09375 36.953125 \r\nQ 23.96875 32.421875 30.609375 32.421875 \r\nz\r\n\" id=\"DejaVuSans-57\"/>\r\n     <path d=\"M 72.703125 32.078125 \r\nQ 68.453125 32.078125 66.03125 28.46875 \r\nQ 63.625 24.859375 63.625 18.40625 \r\nQ 63.625 12.0625 66.03125 8.421875 \r\nQ 68.453125 4.78125 72.703125 4.78125 \r\nQ 76.859375 4.78125 79.265625 8.421875 \r\nQ 81.6875 12.0625 81.6875 18.40625 \r\nQ 81.6875 24.8125 79.265625 28.4375 \r\nQ 76.859375 32.078125 72.703125 32.078125 \r\nz\r\nM 72.703125 38.28125 \r\nQ 80.421875 38.28125 84.953125 32.90625 \r\nQ 89.5 27.546875 89.5 18.40625 \r\nQ 89.5 9.28125 84.9375 3.921875 \r\nQ 80.375 -1.421875 72.703125 -1.421875 \r\nQ 64.890625 -1.421875 60.34375 3.921875 \r\nQ 55.8125 9.28125 55.8125 18.40625 \r\nQ 55.8125 27.59375 60.375 32.9375 \r\nQ 64.9375 38.28125 72.703125 38.28125 \r\nz\r\nM 22.3125 68.015625 \r\nQ 18.109375 68.015625 15.6875 64.375 \r\nQ 13.28125 60.75 13.28125 54.390625 \r\nQ 13.28125 47.953125 15.671875 44.328125 \r\nQ 18.0625 40.71875 22.3125 40.71875 \r\nQ 26.5625 40.71875 28.96875 44.328125 \r\nQ 31.390625 47.953125 31.390625 54.390625 \r\nQ 31.390625 60.6875 28.953125 64.34375 \r\nQ 26.515625 68.015625 22.3125 68.015625 \r\nz\r\nM 66.40625 74.21875 \r\nL 74.21875 74.21875 \r\nL 28.609375 -1.421875 \r\nL 20.796875 -1.421875 \r\nz\r\nM 22.3125 74.21875 \r\nQ 30.03125 74.21875 34.609375 68.875 \r\nQ 39.203125 63.53125 39.203125 54.390625 \r\nQ 39.203125 45.171875 34.640625 39.84375 \r\nQ 30.078125 34.515625 22.3125 34.515625 \r\nQ 14.546875 34.515625 10.03125 39.859375 \r\nQ 5.515625 45.21875 5.515625 54.390625 \r\nQ 5.515625 63.484375 10.046875 68.84375 \r\nQ 14.59375 74.21875 22.3125 74.21875 \r\nz\r\n\" id=\"DejaVuSans-37\"/>\r\n    </defs>\r\n    <g transform=\"translate(123.851861 160.36227)scale(0.1 -0.1)\">\r\n     <use xlink:href=\"#DejaVuSans-53\"/>\r\n     <use x=\"63.623047\" xlink:href=\"#DejaVuSans-48\"/>\r\n     <use x=\"127.246094\" xlink:href=\"#DejaVuSans-46\"/>\r\n     <use x=\"159.033203\" xlink:href=\"#DejaVuSans-57\"/>\r\n     <use x=\"222.65625\" xlink:href=\"#DejaVuSans-37\"/>\r\n    </g>\r\n   </g>\r\n   <g id=\"text_2\">\r\n    <!-- 49.1% -->\r\n    <defs>\r\n     <path d=\"M 37.796875 64.3125 \r\nL 12.890625 25.390625 \r\nL 37.796875 25.390625 \r\nz\r\nM 35.203125 72.90625 \r\nL 47.609375 72.90625 \r\nL 47.609375 25.390625 \r\nL 58.015625 25.390625 \r\nL 58.015625 17.1875 \r\nL 47.609375 17.1875 \r\nL 47.609375 0 \r\nL 37.796875 0 \r\nL 37.796875 17.1875 \r\nL 4.890625 17.1875 \r\nL 4.890625 26.703125 \r\nz\r\n\" id=\"DejaVuSans-52\"/>\r\n     <path d=\"M 12.40625 8.296875 \r\nL 28.515625 8.296875 \r\nL 28.515625 63.921875 \r\nL 10.984375 60.40625 \r\nL 10.984375 69.390625 \r\nL 28.421875 72.90625 \r\nL 38.28125 72.90625 \r\nL 38.28125 8.296875 \r\nL 54.390625 8.296875 \r\nL 54.390625 0 \r\nL 12.40625 0 \r\nz\r\n\" id=\"DejaVuSans-49\"/>\r\n    </defs>\r\n    <g transform=\"translate(268.768084 156.4593)scale(0.1 -0.1)\">\r\n     <use xlink:href=\"#DejaVuSans-52\"/>\r\n     <use x=\"63.623047\" xlink:href=\"#DejaVuSans-57\"/>\r\n     <use x=\"127.246094\" xlink:href=\"#DejaVuSans-46\"/>\r\n     <use x=\"159.033203\" xlink:href=\"#DejaVuSans-49\"/>\r\n     <use x=\"222.65625\" xlink:href=\"#DejaVuSans-37\"/>\r\n    </g>\r\n   </g>\r\n   <g id=\"text_3\">\r\n    <!-- Distribución tweets presidentes -->\r\n    <defs>\r\n     <path d=\"M 19.671875 64.796875 \r\nL 19.671875 8.109375 \r\nL 31.59375 8.109375 \r\nQ 46.6875 8.109375 53.6875 14.9375 \r\nQ 60.6875 21.78125 60.6875 36.53125 \r\nQ 60.6875 51.171875 53.6875 57.984375 \r\nQ 46.6875 64.796875 31.59375 64.796875 \r\nz\r\nM 9.8125 72.90625 \r\nL 30.078125 72.90625 \r\nQ 51.265625 72.90625 61.171875 64.09375 \r\nQ 71.09375 55.28125 71.09375 36.53125 \r\nQ 71.09375 17.671875 61.125 8.828125 \r\nQ 51.171875 0 30.078125 0 \r\nL 9.8125 0 \r\nz\r\n\" id=\"DejaVuSans-68\"/>\r\n     <path d=\"M 9.421875 54.6875 \r\nL 18.40625 54.6875 \r\nL 18.40625 0 \r\nL 9.421875 0 \r\nz\r\nM 9.421875 75.984375 \r\nL 18.40625 75.984375 \r\nL 18.40625 64.59375 \r\nL 9.421875 64.59375 \r\nz\r\n\" id=\"DejaVuSans-105\"/>\r\n     <path d=\"M 44.28125 53.078125 \r\nL 44.28125 44.578125 \r\nQ 40.484375 46.53125 36.375 47.5 \r\nQ 32.28125 48.484375 27.875 48.484375 \r\nQ 21.1875 48.484375 17.84375 46.4375 \r\nQ 14.5 44.390625 14.5 40.28125 \r\nQ 14.5 37.15625 16.890625 35.375 \r\nQ 19.28125 33.59375 26.515625 31.984375 \r\nL 29.59375 31.296875 \r\nQ 39.15625 29.25 43.1875 25.515625 \r\nQ 47.21875 21.78125 47.21875 15.09375 \r\nQ 47.21875 7.46875 41.1875 3.015625 \r\nQ 35.15625 -1.421875 24.609375 -1.421875 \r\nQ 20.21875 -1.421875 15.453125 -0.5625 \r\nQ 10.6875 0.296875 5.421875 2 \r\nL 5.421875 11.28125 \r\nQ 10.40625 8.6875 15.234375 7.390625 \r\nQ 20.0625 6.109375 24.8125 6.109375 \r\nQ 31.15625 6.109375 34.5625 8.28125 \r\nQ 37.984375 10.453125 37.984375 14.40625 \r\nQ 37.984375 18.0625 35.515625 20.015625 \r\nQ 33.0625 21.96875 24.703125 23.78125 \r\nL 21.578125 24.515625 \r\nQ 13.234375 26.265625 9.515625 29.90625 \r\nQ 5.8125 33.546875 5.8125 39.890625 \r\nQ 5.8125 47.609375 11.28125 51.796875 \r\nQ 16.75 56 26.8125 56 \r\nQ 31.78125 56 36.171875 55.265625 \r\nQ 40.578125 54.546875 44.28125 53.078125 \r\nz\r\n\" id=\"DejaVuSans-115\"/>\r\n     <path d=\"M 18.3125 70.21875 \r\nL 18.3125 54.6875 \r\nL 36.8125 54.6875 \r\nL 36.8125 47.703125 \r\nL 18.3125 47.703125 \r\nL 18.3125 18.015625 \r\nQ 18.3125 11.328125 20.140625 9.421875 \r\nQ 21.96875 7.515625 27.59375 7.515625 \r\nL 36.8125 7.515625 \r\nL 36.8125 0 \r\nL 27.59375 0 \r\nQ 17.1875 0 13.234375 3.875 \r\nQ 9.28125 7.765625 9.28125 18.015625 \r\nL 9.28125 47.703125 \r\nL 2.6875 47.703125 \r\nL 2.6875 54.6875 \r\nL 9.28125 54.6875 \r\nL 9.28125 70.21875 \r\nz\r\n\" id=\"DejaVuSans-116\"/>\r\n     <path d=\"M 41.109375 46.296875 \r\nQ 39.59375 47.171875 37.8125 47.578125 \r\nQ 36.03125 48 33.890625 48 \r\nQ 26.265625 48 22.1875 43.046875 \r\nQ 18.109375 38.09375 18.109375 28.8125 \r\nL 18.109375 0 \r\nL 9.078125 0 \r\nL 9.078125 54.6875 \r\nL 18.109375 54.6875 \r\nL 18.109375 46.1875 \r\nQ 20.953125 51.171875 25.484375 53.578125 \r\nQ 30.03125 56 36.53125 56 \r\nQ 37.453125 56 38.578125 55.875 \r\nQ 39.703125 55.765625 41.0625 55.515625 \r\nz\r\n\" id=\"DejaVuSans-114\"/>\r\n     <path d=\"M 48.6875 27.296875 \r\nQ 48.6875 37.203125 44.609375 42.84375 \r\nQ 40.53125 48.484375 33.40625 48.484375 \r\nQ 26.265625 48.484375 22.1875 42.84375 \r\nQ 18.109375 37.203125 18.109375 27.296875 \r\nQ 18.109375 17.390625 22.1875 11.75 \r\nQ 26.265625 6.109375 33.40625 6.109375 \r\nQ 40.53125 6.109375 44.609375 11.75 \r\nQ 48.6875 17.390625 48.6875 27.296875 \r\nz\r\nM 18.109375 46.390625 \r\nQ 20.953125 51.265625 25.265625 53.625 \r\nQ 29.59375 56 35.59375 56 \r\nQ 45.5625 56 51.78125 48.09375 \r\nQ 58.015625 40.1875 58.015625 27.296875 \r\nQ 58.015625 14.40625 51.78125 6.484375 \r\nQ 45.5625 -1.421875 35.59375 -1.421875 \r\nQ 29.59375 -1.421875 25.265625 0.953125 \r\nQ 20.953125 3.328125 18.109375 8.203125 \r\nL 18.109375 0 \r\nL 9.078125 0 \r\nL 9.078125 75.984375 \r\nL 18.109375 75.984375 \r\nz\r\n\" id=\"DejaVuSans-98\"/>\r\n     <path d=\"M 8.5 21.578125 \r\nL 8.5 54.6875 \r\nL 17.484375 54.6875 \r\nL 17.484375 21.921875 \r\nQ 17.484375 14.15625 20.5 10.265625 \r\nQ 23.53125 6.390625 29.59375 6.390625 \r\nQ 36.859375 6.390625 41.078125 11.03125 \r\nQ 45.3125 15.671875 45.3125 23.6875 \r\nL 45.3125 54.6875 \r\nL 54.296875 54.6875 \r\nL 54.296875 0 \r\nL 45.3125 0 \r\nL 45.3125 8.40625 \r\nQ 42.046875 3.421875 37.71875 1 \r\nQ 33.40625 -1.421875 27.6875 -1.421875 \r\nQ 18.265625 -1.421875 13.375 4.4375 \r\nQ 8.5 10.296875 8.5 21.578125 \r\nz\r\nM 31.109375 56 \r\nz\r\n\" id=\"DejaVuSans-117\"/>\r\n     <path d=\"M 48.78125 52.59375 \r\nL 48.78125 44.1875 \r\nQ 44.96875 46.296875 41.140625 47.34375 \r\nQ 37.3125 48.390625 33.40625 48.390625 \r\nQ 24.65625 48.390625 19.8125 42.84375 \r\nQ 14.984375 37.3125 14.984375 27.296875 \r\nQ 14.984375 17.28125 19.8125 11.734375 \r\nQ 24.65625 6.203125 33.40625 6.203125 \r\nQ 37.3125 6.203125 41.140625 7.25 \r\nQ 44.96875 8.296875 48.78125 10.40625 \r\nL 48.78125 2.09375 \r\nQ 45.015625 0.34375 40.984375 -0.53125 \r\nQ 36.96875 -1.421875 32.421875 -1.421875 \r\nQ 20.0625 -1.421875 12.78125 6.34375 \r\nQ 5.515625 14.109375 5.515625 27.296875 \r\nQ 5.515625 40.671875 12.859375 48.328125 \r\nQ 20.21875 56 33.015625 56 \r\nQ 37.15625 56 41.109375 55.140625 \r\nQ 45.0625 54.296875 48.78125 52.59375 \r\nz\r\n\" id=\"DejaVuSans-99\"/>\r\n     <path d=\"M 30.609375 48.390625 \r\nQ 23.390625 48.390625 19.1875 42.75 \r\nQ 14.984375 37.109375 14.984375 27.296875 \r\nQ 14.984375 17.484375 19.15625 11.84375 \r\nQ 23.34375 6.203125 30.609375 6.203125 \r\nQ 37.796875 6.203125 41.984375 11.859375 \r\nQ 46.1875 17.53125 46.1875 27.296875 \r\nQ 46.1875 37.015625 41.984375 42.703125 \r\nQ 37.796875 48.390625 30.609375 48.390625 \r\nz\r\nM 30.609375 56 \r\nQ 42.328125 56 49.015625 48.375 \r\nQ 55.71875 40.765625 55.71875 27.296875 \r\nQ 55.71875 13.875 49.015625 6.21875 \r\nQ 42.328125 -1.421875 30.609375 -1.421875 \r\nQ 18.84375 -1.421875 12.171875 6.21875 \r\nQ 5.515625 13.875 5.515625 27.296875 \r\nQ 5.515625 40.765625 12.171875 48.375 \r\nQ 18.84375 56 30.609375 56 \r\nz\r\nM 37.40625 79.984375 \r\nL 47.125 79.984375 \r\nL 31.203125 61.625 \r\nL 23.734375 61.625 \r\nz\r\n\" id=\"DejaVuSans-243\"/>\r\n     <path d=\"M 54.890625 33.015625 \r\nL 54.890625 0 \r\nL 45.90625 0 \r\nL 45.90625 32.71875 \r\nQ 45.90625 40.484375 42.875 44.328125 \r\nQ 39.84375 48.1875 33.796875 48.1875 \r\nQ 26.515625 48.1875 22.3125 43.546875 \r\nQ 18.109375 38.921875 18.109375 30.90625 \r\nL 18.109375 0 \r\nL 9.078125 0 \r\nL 9.078125 54.6875 \r\nL 18.109375 54.6875 \r\nL 18.109375 46.1875 \r\nQ 21.34375 51.125 25.703125 53.5625 \r\nQ 30.078125 56 35.796875 56 \r\nQ 45.21875 56 50.046875 50.171875 \r\nQ 54.890625 44.34375 54.890625 33.015625 \r\nz\r\n\" id=\"DejaVuSans-110\"/>\r\n     <path id=\"DejaVuSans-32\"/>\r\n     <path d=\"M 4.203125 54.6875 \r\nL 13.1875 54.6875 \r\nL 24.421875 12.015625 \r\nL 35.59375 54.6875 \r\nL 46.1875 54.6875 \r\nL 57.421875 12.015625 \r\nL 68.609375 54.6875 \r\nL 77.59375 54.6875 \r\nL 63.28125 0 \r\nL 52.6875 0 \r\nL 40.921875 44.828125 \r\nL 29.109375 0 \r\nL 18.5 0 \r\nz\r\n\" id=\"DejaVuSans-119\"/>\r\n     <path d=\"M 56.203125 29.59375 \r\nL 56.203125 25.203125 \r\nL 14.890625 25.203125 \r\nQ 15.484375 15.921875 20.484375 11.0625 \r\nQ 25.484375 6.203125 34.421875 6.203125 \r\nQ 39.59375 6.203125 44.453125 7.46875 \r\nQ 49.3125 8.734375 54.109375 11.28125 \r\nL 54.109375 2.78125 \r\nQ 49.265625 0.734375 44.1875 -0.34375 \r\nQ 39.109375 -1.421875 33.890625 -1.421875 \r\nQ 20.796875 -1.421875 13.15625 6.1875 \r\nQ 5.515625 13.8125 5.515625 26.8125 \r\nQ 5.515625 40.234375 12.765625 48.109375 \r\nQ 20.015625 56 32.328125 56 \r\nQ 43.359375 56 49.78125 48.890625 \r\nQ 56.203125 41.796875 56.203125 29.59375 \r\nz\r\nM 47.21875 32.234375 \r\nQ 47.125 39.59375 43.09375 43.984375 \r\nQ 39.0625 48.390625 32.421875 48.390625 \r\nQ 24.90625 48.390625 20.390625 44.140625 \r\nQ 15.875 39.890625 15.1875 32.171875 \r\nz\r\n\" id=\"DejaVuSans-101\"/>\r\n     <path d=\"M 18.109375 8.203125 \r\nL 18.109375 -20.796875 \r\nL 9.078125 -20.796875 \r\nL 9.078125 54.6875 \r\nL 18.109375 54.6875 \r\nL 18.109375 46.390625 \r\nQ 20.953125 51.265625 25.265625 53.625 \r\nQ 29.59375 56 35.59375 56 \r\nQ 45.5625 56 51.78125 48.09375 \r\nQ 58.015625 40.1875 58.015625 27.296875 \r\nQ 58.015625 14.40625 51.78125 6.484375 \r\nQ 45.5625 -1.421875 35.59375 -1.421875 \r\nQ 29.59375 -1.421875 25.265625 0.953125 \r\nQ 20.953125 3.328125 18.109375 8.203125 \r\nz\r\nM 48.6875 27.296875 \r\nQ 48.6875 37.203125 44.609375 42.84375 \r\nQ 40.53125 48.484375 33.40625 48.484375 \r\nQ 26.265625 48.484375 22.1875 42.84375 \r\nQ 18.109375 37.203125 18.109375 27.296875 \r\nQ 18.109375 17.390625 22.1875 11.75 \r\nQ 26.265625 6.109375 33.40625 6.109375 \r\nQ 40.53125 6.109375 44.609375 11.75 \r\nQ 48.6875 17.390625 48.6875 27.296875 \r\nz\r\n\" id=\"DejaVuSans-112\"/>\r\n     <path d=\"M 45.40625 46.390625 \r\nL 45.40625 75.984375 \r\nL 54.390625 75.984375 \r\nL 54.390625 0 \r\nL 45.40625 0 \r\nL 45.40625 8.203125 \r\nQ 42.578125 3.328125 38.25 0.953125 \r\nQ 33.9375 -1.421875 27.875 -1.421875 \r\nQ 17.96875 -1.421875 11.734375 6.484375 \r\nQ 5.515625 14.40625 5.515625 27.296875 \r\nQ 5.515625 40.1875 11.734375 48.09375 \r\nQ 17.96875 56 27.875 56 \r\nQ 33.9375 56 38.25 53.625 \r\nQ 42.578125 51.265625 45.40625 46.390625 \r\nz\r\nM 14.796875 27.296875 \r\nQ 14.796875 17.390625 18.875 11.75 \r\nQ 22.953125 6.109375 30.078125 6.109375 \r\nQ 37.203125 6.109375 41.296875 11.75 \r\nQ 45.40625 17.390625 45.40625 27.296875 \r\nQ 45.40625 37.203125 41.296875 42.84375 \r\nQ 37.203125 48.484375 30.078125 48.484375 \r\nQ 22.953125 48.484375 18.875 42.84375 \r\nQ 14.796875 37.203125 14.796875 27.296875 \r\nz\r\n\" id=\"DejaVuSans-100\"/>\r\n    </defs>\r\n    <g transform=\"translate(117.285 16.798125)scale(0.12 -0.12)\">\r\n     <use xlink:href=\"#DejaVuSans-68\"/>\r\n     <use x=\"77.001953\" xlink:href=\"#DejaVuSans-105\"/>\r\n     <use x=\"104.785156\" xlink:href=\"#DejaVuSans-115\"/>\r\n     <use x=\"156.884766\" xlink:href=\"#DejaVuSans-116\"/>\r\n     <use x=\"196.09375\" xlink:href=\"#DejaVuSans-114\"/>\r\n     <use x=\"237.207031\" xlink:href=\"#DejaVuSans-105\"/>\r\n     <use x=\"264.990234\" xlink:href=\"#DejaVuSans-98\"/>\r\n     <use x=\"328.466797\" xlink:href=\"#DejaVuSans-117\"/>\r\n     <use x=\"391.845703\" xlink:href=\"#DejaVuSans-99\"/>\r\n     <use x=\"446.826172\" xlink:href=\"#DejaVuSans-105\"/>\r\n     <use x=\"474.609375\" xlink:href=\"#DejaVuSans-243\"/>\r\n     <use x=\"535.791016\" xlink:href=\"#DejaVuSans-110\"/>\r\n     <use x=\"599.169922\" xlink:href=\"#DejaVuSans-32\"/>\r\n     <use x=\"630.957031\" xlink:href=\"#DejaVuSans-116\"/>\r\n     <use x=\"670.166016\" xlink:href=\"#DejaVuSans-119\"/>\r\n     <use x=\"751.953125\" xlink:href=\"#DejaVuSans-101\"/>\r\n     <use x=\"813.476562\" xlink:href=\"#DejaVuSans-101\"/>\r\n     <use x=\"875\" xlink:href=\"#DejaVuSans-116\"/>\r\n     <use x=\"914.208984\" xlink:href=\"#DejaVuSans-115\"/>\r\n     <use x=\"966.308594\" xlink:href=\"#DejaVuSans-32\"/>\r\n     <use x=\"998.095703\" xlink:href=\"#DejaVuSans-112\"/>\r\n     <use x=\"1061.572266\" xlink:href=\"#DejaVuSans-114\"/>\r\n     <use x=\"1102.654297\" xlink:href=\"#DejaVuSans-101\"/>\r\n     <use x=\"1164.177734\" xlink:href=\"#DejaVuSans-115\"/>\r\n     <use x=\"1216.277344\" xlink:href=\"#DejaVuSans-105\"/>\r\n     <use x=\"1244.060547\" xlink:href=\"#DejaVuSans-100\"/>\r\n     <use x=\"1307.537109\" xlink:href=\"#DejaVuSans-101\"/>\r\n     <use x=\"1369.060547\" xlink:href=\"#DejaVuSans-110\"/>\r\n     <use x=\"1432.439453\" xlink:href=\"#DejaVuSans-116\"/>\r\n     <use x=\"1471.648438\" xlink:href=\"#DejaVuSans-101\"/>\r\n     <use x=\"1533.171875\" xlink:href=\"#DejaVuSans-115\"/>\r\n    </g>\r\n   </g>\r\n   <g id=\"legend_1\">\r\n    <g id=\"patch_4\">\r\n     <path d=\"M 342.382812 60.154375 \r\nL 410.6 60.154375 \r\nQ 412.6 60.154375 412.6 58.154375 \r\nL 412.6 29.798125 \r\nQ 412.6 27.798125 410.6 27.798125 \r\nL 342.382812 27.798125 \r\nQ 340.382812 27.798125 340.382812 29.798125 \r\nL 340.382812 58.154375 \r\nQ 340.382812 60.154375 342.382812 60.154375 \r\nz\r\n\" style=\"fill:#ffffff;opacity:0.8;stroke:#cccccc;stroke-linejoin:miter;\"/>\r\n    </g>\r\n    <g id=\"patch_5\">\r\n     <path d=\"M 344.382812 39.396562 \r\nL 364.382812 39.396562 \r\nL 364.382812 32.396562 \r\nL 344.382812 32.396562 \r\nz\r\n\" style=\"fill:#1f77b4;\"/>\r\n    </g>\r\n    <g id=\"text_4\">\r\n     <!-- Trump -->\r\n     <defs>\r\n      <path d=\"M -0.296875 72.90625 \r\nL 61.375 72.90625 \r\nL 61.375 64.59375 \r\nL 35.5 64.59375 \r\nL 35.5 0 \r\nL 25.59375 0 \r\nL 25.59375 64.59375 \r\nL -0.296875 64.59375 \r\nz\r\n\" id=\"DejaVuSans-84\"/>\r\n      <path d=\"M 52 44.1875 \r\nQ 55.375 50.25 60.0625 53.125 \r\nQ 64.75 56 71.09375 56 \r\nQ 79.640625 56 84.28125 50.015625 \r\nQ 88.921875 44.046875 88.921875 33.015625 \r\nL 88.921875 0 \r\nL 79.890625 0 \r\nL 79.890625 32.71875 \r\nQ 79.890625 40.578125 77.09375 44.375 \r\nQ 74.3125 48.1875 68.609375 48.1875 \r\nQ 61.625 48.1875 57.5625 43.546875 \r\nQ 53.515625 38.921875 53.515625 30.90625 \r\nL 53.515625 0 \r\nL 44.484375 0 \r\nL 44.484375 32.71875 \r\nQ 44.484375 40.625 41.703125 44.40625 \r\nQ 38.921875 48.1875 33.109375 48.1875 \r\nQ 26.21875 48.1875 22.15625 43.53125 \r\nQ 18.109375 38.875 18.109375 30.90625 \r\nL 18.109375 0 \r\nL 9.078125 0 \r\nL 9.078125 54.6875 \r\nL 18.109375 54.6875 \r\nL 18.109375 46.1875 \r\nQ 21.1875 51.21875 25.484375 53.609375 \r\nQ 29.78125 56 35.6875 56 \r\nQ 41.65625 56 45.828125 52.96875 \r\nQ 50 49.953125 52 44.1875 \r\nz\r\n\" id=\"DejaVuSans-109\"/>\r\n     </defs>\r\n     <g transform=\"translate(372.382812 39.396562)scale(0.1 -0.1)\">\r\n      <use xlink:href=\"#DejaVuSans-84\"/>\r\n      <use x=\"60.865234\" xlink:href=\"#DejaVuSans-114\"/>\r\n      <use x=\"101.978516\" xlink:href=\"#DejaVuSans-117\"/>\r\n      <use x=\"165.357422\" xlink:href=\"#DejaVuSans-109\"/>\r\n      <use x=\"262.769531\" xlink:href=\"#DejaVuSans-112\"/>\r\n     </g>\r\n    </g>\r\n    <g id=\"patch_6\">\r\n     <path d=\"M 344.382812 54.074687 \r\nL 364.382812 54.074687 \r\nL 364.382812 47.074687 \r\nL 344.382812 47.074687 \r\nz\r\n\" style=\"fill:#ff7f0e;\"/>\r\n    </g>\r\n    <g id=\"text_5\">\r\n     <!-- Obama -->\r\n     <defs>\r\n      <path d=\"M 39.40625 66.21875 \r\nQ 28.65625 66.21875 22.328125 58.203125 \r\nQ 16.015625 50.203125 16.015625 36.375 \r\nQ 16.015625 22.609375 22.328125 14.59375 \r\nQ 28.65625 6.59375 39.40625 6.59375 \r\nQ 50.140625 6.59375 56.421875 14.59375 \r\nQ 62.703125 22.609375 62.703125 36.375 \r\nQ 62.703125 50.203125 56.421875 58.203125 \r\nQ 50.140625 66.21875 39.40625 66.21875 \r\nz\r\nM 39.40625 74.21875 \r\nQ 54.734375 74.21875 63.90625 63.9375 \r\nQ 73.09375 53.65625 73.09375 36.375 \r\nQ 73.09375 19.140625 63.90625 8.859375 \r\nQ 54.734375 -1.421875 39.40625 -1.421875 \r\nQ 24.03125 -1.421875 14.8125 8.828125 \r\nQ 5.609375 19.09375 5.609375 36.375 \r\nQ 5.609375 53.65625 14.8125 63.9375 \r\nQ 24.03125 74.21875 39.40625 74.21875 \r\nz\r\n\" id=\"DejaVuSans-79\"/>\r\n      <path d=\"M 34.28125 27.484375 \r\nQ 23.390625 27.484375 19.1875 25 \r\nQ 14.984375 22.515625 14.984375 16.5 \r\nQ 14.984375 11.71875 18.140625 8.90625 \r\nQ 21.296875 6.109375 26.703125 6.109375 \r\nQ 34.1875 6.109375 38.703125 11.40625 \r\nQ 43.21875 16.703125 43.21875 25.484375 \r\nL 43.21875 27.484375 \r\nz\r\nM 52.203125 31.203125 \r\nL 52.203125 0 \r\nL 43.21875 0 \r\nL 43.21875 8.296875 \r\nQ 40.140625 3.328125 35.546875 0.953125 \r\nQ 30.953125 -1.421875 24.3125 -1.421875 \r\nQ 15.921875 -1.421875 10.953125 3.296875 \r\nQ 6 8.015625 6 15.921875 \r\nQ 6 25.140625 12.171875 29.828125 \r\nQ 18.359375 34.515625 30.609375 34.515625 \r\nL 43.21875 34.515625 \r\nL 43.21875 35.40625 \r\nQ 43.21875 41.609375 39.140625 45 \r\nQ 35.0625 48.390625 27.6875 48.390625 \r\nQ 23 48.390625 18.546875 47.265625 \r\nQ 14.109375 46.140625 10.015625 43.890625 \r\nL 10.015625 52.203125 \r\nQ 14.9375 54.109375 19.578125 55.046875 \r\nQ 24.21875 56 28.609375 56 \r\nQ 40.484375 56 46.34375 49.84375 \r\nQ 52.203125 43.703125 52.203125 31.203125 \r\nz\r\n\" id=\"DejaVuSans-97\"/>\r\n     </defs>\r\n     <g transform=\"translate(372.382812 54.074687)scale(0.1 -0.1)\">\r\n      <use xlink:href=\"#DejaVuSans-79\"/>\r\n      <use x=\"78.710938\" xlink:href=\"#DejaVuSans-98\"/>\r\n      <use x=\"142.1875\" xlink:href=\"#DejaVuSans-97\"/>\r\n      <use x=\"203.466797\" xlink:href=\"#DejaVuSans-109\"/>\r\n      <use x=\"300.878906\" xlink:href=\"#DejaVuSans-97\"/>\r\n     </g>\r\n    </g>\r\n   </g>\r\n  </g>\r\n </g>\r\n</svg>\r\n",
      "text/plain": "<Figure size 432x288 with 1 Axes>"
     },
     "metadata": {},
     "output_type": "display_data"
    }
   ],
   "source": [
    "labels = 'Trump', 'Obama'\n",
    "sizes = df['president'].value_counts()\n",
    "\n",
    "fig1, ax1 = plt.subplots()\n",
    "\n",
    "patches, texts, junk = ax1.pie(sizes, autopct='%1.1f%%',shadow=False, startangle=90)\n",
    "ax1.legend(patches, labels, loc=\"best\")\n",
    "ax1.axis('equal')  \n",
    "plt.tight_layout()\n",
    "plt.title('Distribución tweets presidentes', fontsize=12)\n",
    "plt.show()"
   ]
  },
  {
   "cell_type": "markdown",
   "metadata": {},
   "source": [
    "# Tratamiento de los datos\n",
    "Se hará el mismo tratamiento de datos que en el [dataset 1](00_1_AnalisisDataset1.ipynb)\n",
    "\n",
    "- Borrar Urls, menciones, hastags, emojis etc\n",
    "- Eliminar **stopwords** usando NLTK\n",
    "- Reemplazo de **Slangs** y abreviaciones\n",
    "- Remplazo de **contracciones**\n",
    "- **Lematización** para llevar las palabras a su forma base considerando en análisis morfológico. Se usará Nltk\n",
    "- NO usaré **Stemming** para llevar las palabras a su forma base ya que la lemmatización es más avanzada."
   ]
  },
  {
   "cell_type": "code",
   "execution_count": 41,
   "metadata": {},
   "outputs": [
    {
     "name": "stdout",
     "output_type": "stream",
     "text": "president  \\\n0        OBAMA   \n1        OBAMA   \n2        OBAMA   \n3        OBAMA   \n4        OBAMA   \n...        ...   \n5884     TRUMP   \n5885     TRUMP   \n5886     TRUMP   \n5887     TRUMP   \n5888     TRUMP   \n\n                                                                                                                                                                                                                                                                                tweet  \n0                                   “low plastic stool cheap but delicious noodles cold hanoi beer” this is how i’ll remember tony he taught us about food — but more impoantly about its ability to bring us together to make us a little less afraid of the unknown we’ll miss him   \n1                                   “low plastic stool cheap but delicious noodles cold hanoi beer” this is how i’ll remember tony he taught us about food — but more impoantly about its ability to bring us together to make us a little less afraid of the unknown we’ll miss him   \n2                            this national gun violence awareness day show your commitment to keeping our kids safe from gun violence then for everyone we’ve lost take action to change our leadership and our laws until they reflect that commitment  no matter how long it takes   \n3     we can never truly repay the debt we owe our fallen heroes but we can remember them honor their sacrifice and affirm in our own lives those enduring ideals of justice equality and oppounity for which generations of americans have given that last full measure of devotion   \n4                                                                                this center is for the leaders of tomorrow who are ready to step up and build the world as it should be michelle and i are grateful to chicagoans and the chicago city council for making it happen   \n...                                                                                                                                                                                                                                                                               ...  \n5884                                                                                                                                            vast sums of money to nato amp the united states must be paid more for the powerful and very expensive defense it provides to germany  \n5885                                                                                                                                                despite what you have heard from the fake news i had a great meeting with german chancellor angela merkel neveheless germany owes  \n5886                                                                                                                                                                                                                          great meeting with the  committee this morning at the    \n5887                                                                                                                                                                                                                       the president changed so has small businesses' confidence   \n5888                                                                                                                                                                noh korea is behaving very badly they have been playing the united states for years china has done little to help  \n\n[5889 rows x 2 columns]\n"
    }
   ],
   "source": [
    "df_pandas = df\n",
    "\n",
    "#change tweets into lowercase\n",
    "df_pandas['tweet'] = df_pandas['tweet'].str.lower()\n",
    "\n",
    "#Removing RT retweet term\n",
    "df_pandas['tweet'] = df_pandas['tweet'].str.replace('rt', '')\n",
    "\n",
    "#Removing usernames\n",
    "df_pandas['tweet'] = df_pandas['tweet'].replace(r'@\\w+', '', regex=True)\n",
    "\n",
    "#Removing url links\n",
    "df_pandas['tweet'] = df_pandas['tweet'].replace(r'http\\S+', '', regex=True)\n",
    "df_pandas['tweet'] = df_pandas['tweet'].replace(r'www.[^ ]+', '', regex=True)\n",
    "\n",
    "#remove next line \\n\n",
    "df_pandas['tweet'] = df_pandas['tweet'].replace('\\n',' ', regex=True)\n",
    "\n",
    "#remove numbers\n",
    "df_pandas['tweet'] = df_pandas['tweet'].replace(r'[0-9]+', '', regex=True)\n",
    "\n",
    "#removing special characters\n",
    "df_pandas['tweet'] = df_pandas['tweet'].replace(r'[!\"#$%&()*+,-./:;<=>?@[\\]^_`{|}~]', '', regex=True)\n",
    "\n",
    "# Removing tweet topic\n",
    "df_pandas['tweet'] = df_pandas['tweet'].str.replace('haze', '')\n",
    "\n",
    "print(df_pandas)"
   ]
  },
  {
   "cell_type": "markdown",
   "metadata": {},
   "source": [
    "## Emojis y otros caracteres ASCII"
   ]
  },
  {
   "cell_type": "code",
   "execution_count": 42,
   "metadata": {},
   "outputs": [
    {
     "data": {
      "text/html": "<div>\n<style scoped>\n    .dataframe tbody tr th:only-of-type {\n        vertical-align: middle;\n    }\n\n    .dataframe tbody tr th {\n        vertical-align: top;\n    }\n\n    .dataframe thead th {\n        text-align: right;\n    }\n</style>\n<table border=\"1\" class=\"dataframe\">\n  <thead>\n    <tr style=\"text-align: right;\">\n      <th></th>\n      <th>president</th>\n      <th>tweet</th>\n    </tr>\n  </thead>\n  <tbody>\n    <tr>\n      <th>0</th>\n      <td>OBAMA</td>\n      <td>low plastic stool cheap but delicious noodles cold hanoi beer this is how ill remember tony he taught us about food  but more impoantly about its ability to bring us together to make us a little less afraid of the unknown well miss him</td>\n    </tr>\n    <tr>\n      <th>1</th>\n      <td>OBAMA</td>\n      <td>low plastic stool cheap but delicious noodles cold hanoi beer this is how ill remember tony he taught us about food  but more impoantly about its ability to bring us together to make us a little less afraid of the unknown well miss him</td>\n    </tr>\n    <tr>\n      <th>2</th>\n      <td>OBAMA</td>\n      <td>this national gun violence awareness day show your commitment to keeping our kids safe from gun violence then for everyone weve lost take action to change our leadership and our laws until they reflect that commitment  no matter how long it takes</td>\n    </tr>\n    <tr>\n      <th>3</th>\n      <td>OBAMA</td>\n      <td>we can never truly repay the debt we owe our fallen heroes but we can remember them honor their sacrifice and affirm in our own lives those enduring ideals of justice equality and oppounity for which generations of americans have given that last full measure of devotion</td>\n    </tr>\n    <tr>\n      <th>4</th>\n      <td>OBAMA</td>\n      <td>this center is for the leaders of tomorrow who are ready to step up and build the world as it should be michelle and i are grateful to chicagoans and the chicago city council for making it happen</td>\n    </tr>\n  </tbody>\n</table>\n</div>",
      "text/plain": "  president  \\\n0     OBAMA   \n1     OBAMA   \n2     OBAMA   \n3     OBAMA   \n4     OBAMA   \n\n                                                                                                                                                                                                                                                                             tweet  \n0                                     low plastic stool cheap but delicious noodles cold hanoi beer this is how ill remember tony he taught us about food  but more impoantly about its ability to bring us together to make us a little less afraid of the unknown well miss him   \n1                                     low plastic stool cheap but delicious noodles cold hanoi beer this is how ill remember tony he taught us about food  but more impoantly about its ability to bring us together to make us a little less afraid of the unknown well miss him   \n2                          this national gun violence awareness day show your commitment to keeping our kids safe from gun violence then for everyone weve lost take action to change our leadership and our laws until they reflect that commitment  no matter how long it takes   \n3  we can never truly repay the debt we owe our fallen heroes but we can remember them honor their sacrifice and affirm in our own lives those enduring ideals of justice equality and oppounity for which generations of americans have given that last full measure of devotion   \n4                                                                             this center is for the leaders of tomorrow who are ready to step up and build the world as it should be michelle and i are grateful to chicagoans and the chicago city council for making it happen   "
     },
     "execution_count": 42,
     "metadata": {},
     "output_type": "execute_result"
    }
   ],
   "source": [
    "import re\n",
    "\n",
    "def deEmojify(inputString):  \n",
    "    return inputString.encode('ascii', 'ignore').decode('ascii')\n",
    "\n",
    "df_pandas['tweet'] = df_pandas['tweet'].apply(lambda x: deEmojify(x))\n",
    "df_pandas.head()"
   ]
  },
  {
   "cell_type": "markdown",
   "metadata": {},
   "source": [
    "## Stopwords"
   ]
  },
  {
   "cell_type": "code",
   "execution_count": 43,
   "metadata": {},
   "outputs": [
    {
     "name": "stdout",
     "output_type": "stream",
     "text": "president  \\\n0        OBAMA   \n1        OBAMA   \n2        OBAMA   \n3        OBAMA   \n4        OBAMA   \n...        ...   \n5884     TRUMP   \n5885     TRUMP   \n5886     TRUMP   \n5887     TRUMP   \n5888     TRUMP   \n\n                                                                                                                                                                                 tweet  \n0          low plastic stool cheap delicious noodles cold hanoi beer ill remember tony taught us food impoantly ability bring us together make us little less afraid unknown well miss  \n1          low plastic stool cheap delicious noodles cold hanoi beer ill remember tony taught us food impoantly ability bring us together make us little less afraid unknown well miss  \n2        national gun violence awareness day show commitment keeping kids safe gun violence everyone weve lost take action change leadership laws reflect commitment matter long takes  \n3     never truly repay debt owe fallen heroes remember honor sacrifice affirm lives enduring ideals justice equality oppounity generations americans given last full measure devotion  \n4                                                                       center leaders tomorrow ready step build world michelle grateful chicagoans chicago city council making happen  \n...                                                                                                                                                                                ...  \n5884                                                                                      vast sums money nato amp united states must paid powerful expensive defense provides germany  \n5885                                                                                     despite heard fake news great meeting german chancellor angela merkel neveheless germany owes  \n5886                                                                                                                                                   great meeting committee morning  \n5887                                                                                                                                    president changed small businesses' confidence  \n5888                                                                                                       noh korea behaving badly playing united states years china done little help  \n\n[5889 rows x 2 columns]\n[nltk_data] Downloading package stopwords to\n[nltk_data]     C:\\Users\\asens\\AppData\\Roaming\\nltk_data...\n[nltk_data]   Package stopwords is already up-to-date!\n"
    }
   ],
   "source": [
    "import nltk\n",
    "nltk.download('stopwords')\n",
    "from nltk.corpus import (stopwords)\n",
    "\n",
    "stop_words_eng = stopwords.words('english')\n",
    "\n",
    "df_pandas['tweet'] = df_pandas['tweet'].apply(lambda x: ' '.join([word for word in x.split() if word not in (stop_words_eng)]))\n",
    "\n",
    "print(df_pandas)"
   ]
  },
  {
   "cell_type": "markdown",
   "metadata": {},
   "source": [
    "## Slangs"
   ]
  },
  {
   "cell_type": "code",
   "execution_count": 45,
   "metadata": {},
   "outputs": [],
   "source": [
    "\"\"\" Creates a dictionary with slangs and their equivalents and replaces them \"\"\"\n",
    "from functools import partial\n",
    "\n",
    "with open('slang.txt') as file:\n",
    "    slang_map = dict(map(str.strip, line.partition('\\t')[::2])\n",
    "    for line in file if line.strip())\n",
    "\n",
    "slang_words = sorted(slang_map, key=len, reverse=True) # longest first for regex\n",
    "regex = re.compile(r\"\\b({})\\b\".format(\"|\".join(map(re.escape, slang_words))))\n",
    "replaceSlang = partial(regex.sub, lambda m: slang_map[m.group(1)])"
   ]
  },
  {
   "cell_type": "code",
   "execution_count": 46,
   "metadata": {},
   "outputs": [
    {
     "data": {
      "text/html": "<div>\n<style scoped>\n    .dataframe tbody tr th:only-of-type {\n        vertical-align: middle;\n    }\n\n    .dataframe tbody tr th {\n        vertical-align: top;\n    }\n\n    .dataframe thead th {\n        text-align: right;\n    }\n</style>\n<table border=\"1\" class=\"dataframe\">\n  <thead>\n    <tr style=\"text-align: right;\">\n      <th></th>\n      <th>president</th>\n      <th>tweet</th>\n    </tr>\n  </thead>\n  <tbody>\n    <tr>\n      <th>0</th>\n      <td>OBAMA</td>\n      <td>low plastic stool cheap delicious noodles cold hanoi beer ill remember tony taught us food impoantly ability bring us together make us little less afraid unknown well miss</td>\n    </tr>\n    <tr>\n      <th>1</th>\n      <td>OBAMA</td>\n      <td>low plastic stool cheap delicious noodles cold hanoi beer ill remember tony taught us food impoantly ability bring us together make us little less afraid unknown well miss</td>\n    </tr>\n    <tr>\n      <th>2</th>\n      <td>OBAMA</td>\n      <td>national gun violence awareness day show commitment keeping kids safe gun violence everyone weve lost take action change leadership laws reflect commitment matter long takes</td>\n    </tr>\n    <tr>\n      <th>3</th>\n      <td>OBAMA</td>\n      <td>never truly repay debt owe fallen heroes remember honor sacrifice affirm lives enduring ideals justice equality oppounity generations americans given last full measure devotion</td>\n    </tr>\n    <tr>\n      <th>4</th>\n      <td>OBAMA</td>\n      <td>center leaders tomorrow ready step build world michelle grateful chicagoans chicago city council making happen</td>\n    </tr>\n    <tr>\n      <th>...</th>\n      <td>...</td>\n      <td>...</td>\n    </tr>\n    <tr>\n      <th>95</th>\n      <td>OBAMA</td>\n      <td>lions tiggers bears oh happyhalloween</td>\n    </tr>\n    <tr>\n      <th>96</th>\n      <td>OBAMA</td>\n      <td>usted su familia merecen la tranquilidad de saber que estn cubieos el mercado de seguros abre maana</td>\n    </tr>\n    <tr>\n      <th>97</th>\n      <td>OBAMA</td>\n      <td>speak suppo quality affordable health care</td>\n    </tr>\n    <tr>\n      <th>98</th>\n      <td>OBAMA</td>\n      <td>there's nothing scared searching health insurance three four people getcovered less month</td>\n    </tr>\n    <tr>\n      <th>99</th>\n      <td>OBAMA</td>\n      <td>open enrollment begins tomorrowmake sure loved ones getcovered</td>\n    </tr>\n  </tbody>\n</table>\n<p>100 rows × 2 columns</p>\n</div>",
      "text/plain": "   president  \\\n0      OBAMA   \n1      OBAMA   \n2      OBAMA   \n3      OBAMA   \n4      OBAMA   \n..       ...   \n95     OBAMA   \n96     OBAMA   \n97     OBAMA   \n98     OBAMA   \n99     OBAMA   \n\n                                                                                                                                                                               tweet  \n0        low plastic stool cheap delicious noodles cold hanoi beer ill remember tony taught us food impoantly ability bring us together make us little less afraid unknown well miss  \n1        low plastic stool cheap delicious noodles cold hanoi beer ill remember tony taught us food impoantly ability bring us together make us little less afraid unknown well miss  \n2      national gun violence awareness day show commitment keeping kids safe gun violence everyone weve lost take action change leadership laws reflect commitment matter long takes  \n3   never truly repay debt owe fallen heroes remember honor sacrifice affirm lives enduring ideals justice equality oppounity generations americans given last full measure devotion  \n4                                                                     center leaders tomorrow ready step build world michelle grateful chicagoans chicago city council making happen  \n..                                                                                                                                                                               ...  \n95                                                                                                                                             lions tiggers bears oh happyhalloween  \n96                                                                               usted su familia merecen la tranquilidad de saber que estn cubieos el mercado de seguros abre maana  \n97                                                                                                                                        speak suppo quality affordable health care  \n98                                                                                         there's nothing scared searching health insurance three four people getcovered less month  \n99                                                                                                                    open enrollment begins tomorrowmake sure loved ones getcovered  \n\n[100 rows x 2 columns]"
     },
     "execution_count": 46,
     "metadata": {},
     "output_type": "execute_result"
    }
   ],
   "source": [
    "df_pandas['tweet'] = df_pandas['tweet'].apply(lambda x: replaceSlang(x))\n",
    "df_pandas[:100]"
   ]
  },
  {
   "cell_type": "markdown",
   "metadata": {},
   "source": [
    "## Contracciones"
   ]
  },
  {
   "cell_type": "code",
   "execution_count": 47,
   "metadata": {},
   "outputs": [],
   "source": [
    "contractions = {\n",
    "    \"ain't\": \"is not\", \"aren't\": \"are not\",\"can't\": \"cannot\", \n",
    "    \"can't've\": \"cannot have\", \"'cause\": \"because\", \"could've\": \"could have\", \n",
    "    \"couldn't\": \"could not\", \"couldn't've\": \"could not have\",\"didn't\": \"did not\", \n",
    "    \"doesn't\": \"does not\", \"don't\": \"do not\", \"hadn't\": \"had not\", \n",
    "    \"hadn't've\": \"had not have\", \"hasn't\": \"has not\", \"haven't\": \"have not\", \n",
    "    \"he'd\": \"he would\", \"he'd've\": \"he would have\", \"he'll\": \"he will\", \n",
    "    \"he'll've\": \"he he will have\", \"he's\": \"he is\", \"how'd\": \"how did\", \n",
    "    \"how'd'y\": \"how do you\", \"how'll\": \"how will\", \"how's\": \"how is\", \n",
    "    \"I'd\": \"I would\", \"I'd've\": \"I would have\", \"I'll\": \"I will\", \n",
    "    \"I'll've\": \"I will have\",\"I'm\": \"I am\", \"I've\": \"I have\", \n",
    "    \"i'd\": \"i would\", \"i'd've\": \"i would have\", \"i'll\": \"i will\", \n",
    "    \"i'll've\": \"i will have\",\"i'm\": \"i am\", \"i've\": \"i have\", \n",
    "    \"isn't\": \"is not\", \"it'd\": \"it would\", \"it'd've\": \"it would have\", \n",
    "    \"it'll\": \"it will\", \"it'll've\": \"it will have\",\"it's\": \"it is\", \n",
    "    \"let's\": \"let us\", \"ma'am\": \"madam\", \"mayn't\": \"may not\", \n",
    "    \"might've\": \"might have\",\"mightn't\": \"might not\",\"mightn't've\": \"might not have\", \n",
    "    \"must've\": \"must have\", \"mustn't\": \"must not\", \"mustn't've\": \"must not have\", \n",
    "    \"needn't\": \"need not\", \"needn't've\": \"need not have\",\"o'clock\": \"of the clock\", \n",
    "    \"oughtn't\": \"ought not\", \"oughtn't've\": \"ought not have\", \"shan't\": \"shall not\",\n",
    "    \"sha'n't\": \"shall not\", \"shan't've\": \"shall not have\", \"she'd\": \"she would\", \n",
    "    \"she'd've\": \"she would have\", \"she'll\": \"she will\", \"she'll've\": \"she will have\", \n",
    "    \"she's\": \"she is\", \"should've\": \"should have\", \"shouldn't\": \"should not\", \n",
    "    \"shouldn't've\": \"should not have\", \"so've\": \"so have\",\"so's\": \"so as\", \n",
    "    \"this's\": \"this is\",\n",
    "    \"that'd\": \"that would\", \"that'd've\": \"that would have\",\"that's\": \"that is\", \n",
    "    \"there'd\": \"there would\", \"there'd've\": \"there would have\",\"there's\": \"there is\", \n",
    "    \"they'd\": \"they would\", \"they'd've\": \"they would have\", \"they'll\": \"they will\", \n",
    "    \"they'll've\": \"they will have\", \"they're\": \"they are\", \"they've\": \"they have\", \n",
    "    \"to've\": \"to have\", \"wasn't\": \"was not\", \"we'd\": \"we would\", \n",
    "    \"we'd've\": \"we would have\", \"we'll\": \"we will\", \"we'll've\": \"we will have\", \n",
    "    \"we're\": \"we are\", \"we've\": \"we have\", \"weren't\": \"were not\", \n",
    "    \"what'll\": \"what will\", \"what'll've\": \"what will have\", \"what're\": \"what are\", \n",
    "    \"what's\": \"what is\", \"what've\": \"what have\", \"when's\": \"when is\", \n",
    "    \"when've\": \"when have\", \"where'd\": \"where did\", \"where's\": \"where is\", \n",
    "    \"where've\": \"where have\", \"who'll\": \"who will\", \"who'll've\": \"who will have\", \n",
    "    \"who's\": \"who is\", \"who've\": \"who have\", \"why's\": \"why is\", \n",
    "    \"why've\": \"why have\", \"will've\": \"will have\", \"won't\": \"will not\", \n",
    "    \"won't've\": \"will not have\", \"would've\": \"would have\", \"wouldn't\": \"would not\", \n",
    "    \"wouldn't've\": \"would not have\", \"y'all\": \"you all\", \"y'all'd\": \"you all would\",\n",
    "    \"y'all'd've\": \"you all would have\",\"y'all're\": \"you all are\",\"y'all've\": \"you all have\",\n",
    "    \"you'd\": \"you would\", \"you'd've\": \"you would have\", \"you'll\": \"you will\", \n",
    "    \"you'll've\": \"you will have\", \"you're\": \"you are\", \"you've\": \"you have\"\n",
    "}\n",
    "\n",
    "def replaceContractions(inputString):\n",
    "    for word in inputString.split():\n",
    "        if word.lower() in contractions:\n",
    "            inputString = inputString.replace(word, contractions[word.lower()])\n",
    "\n",
    "    return(inputString)"
   ]
  },
  {
   "cell_type": "code",
   "execution_count": 49,
   "metadata": {},
   "outputs": [
    {
     "data": {
      "text/html": "<div>\n<style scoped>\n    .dataframe tbody tr th:only-of-type {\n        vertical-align: middle;\n    }\n\n    .dataframe tbody tr th {\n        vertical-align: top;\n    }\n\n    .dataframe thead th {\n        text-align: right;\n    }\n</style>\n<table border=\"1\" class=\"dataframe\">\n  <thead>\n    <tr style=\"text-align: right;\">\n      <th></th>\n      <th>president</th>\n      <th>tweet</th>\n    </tr>\n  </thead>\n  <tbody>\n    <tr>\n      <th>0</th>\n      <td>OBAMA</td>\n      <td>low plastic stool cheap delicious noodles cold hanoi beer ill remember tony taught us food impoantly ability bring us together make us little less afraid unknown well miss</td>\n    </tr>\n    <tr>\n      <th>1</th>\n      <td>OBAMA</td>\n      <td>low plastic stool cheap delicious noodles cold hanoi beer ill remember tony taught us food impoantly ability bring us together make us little less afraid unknown well miss</td>\n    </tr>\n    <tr>\n      <th>2</th>\n      <td>OBAMA</td>\n      <td>national gun violence awareness day show commitment keeping kids safe gun violence everyone weve lost take action change leadership laws reflect commitment matter long takes</td>\n    </tr>\n    <tr>\n      <th>3</th>\n      <td>OBAMA</td>\n      <td>never truly repay debt owe fallen heroes remember honor sacrifice affirm lives enduring ideals justice equality oppounity generations americans given last full measure devotion</td>\n    </tr>\n    <tr>\n      <th>4</th>\n      <td>OBAMA</td>\n      <td>center leaders tomorrow ready step build world michelle grateful chicagoans chicago city council making happen</td>\n    </tr>\n    <tr>\n      <th>...</th>\n      <td>...</td>\n      <td>...</td>\n    </tr>\n    <tr>\n      <th>95</th>\n      <td>OBAMA</td>\n      <td>lions tiggers bears oh happyhalloween</td>\n    </tr>\n    <tr>\n      <th>96</th>\n      <td>OBAMA</td>\n      <td>usted su familia merecen la tranquilidad de saber que estn cubieos el mercado de seguros abre maana</td>\n    </tr>\n    <tr>\n      <th>97</th>\n      <td>OBAMA</td>\n      <td>speak suppo quality affordable health care</td>\n    </tr>\n    <tr>\n      <th>98</th>\n      <td>OBAMA</td>\n      <td>there is nothing scared searching health insurance three four people getcovered less month</td>\n    </tr>\n    <tr>\n      <th>99</th>\n      <td>OBAMA</td>\n      <td>open enrollment begins tomorrowmake sure loved ones getcovered</td>\n    </tr>\n  </tbody>\n</table>\n<p>100 rows × 2 columns</p>\n</div>",
      "text/plain": "   president  \\\n0      OBAMA   \n1      OBAMA   \n2      OBAMA   \n3      OBAMA   \n4      OBAMA   \n..       ...   \n95     OBAMA   \n96     OBAMA   \n97     OBAMA   \n98     OBAMA   \n99     OBAMA   \n\n                                                                                                                                                                               tweet  \n0        low plastic stool cheap delicious noodles cold hanoi beer ill remember tony taught us food impoantly ability bring us together make us little less afraid unknown well miss  \n1        low plastic stool cheap delicious noodles cold hanoi beer ill remember tony taught us food impoantly ability bring us together make us little less afraid unknown well miss  \n2      national gun violence awareness day show commitment keeping kids safe gun violence everyone weve lost take action change leadership laws reflect commitment matter long takes  \n3   never truly repay debt owe fallen heroes remember honor sacrifice affirm lives enduring ideals justice equality oppounity generations americans given last full measure devotion  \n4                                                                     center leaders tomorrow ready step build world michelle grateful chicagoans chicago city council making happen  \n..                                                                                                                                                                               ...  \n95                                                                                                                                             lions tiggers bears oh happyhalloween  \n96                                                                               usted su familia merecen la tranquilidad de saber que estn cubieos el mercado de seguros abre maana  \n97                                                                                                                                        speak suppo quality affordable health care  \n98                                                                                        there is nothing scared searching health insurance three four people getcovered less month  \n99                                                                                                                    open enrollment begins tomorrowmake sure loved ones getcovered  \n\n[100 rows x 2 columns]"
     },
     "execution_count": 49,
     "metadata": {},
     "output_type": "execute_result"
    }
   ],
   "source": [
    "df_pandas['tweet'] = df_pandas['tweet'].apply(lambda x: replaceContractions(x))\n",
    "df_pandas[:100]"
   ]
  },
  {
   "cell_type": "markdown",
   "metadata": {},
   "source": [
    "## Borrar nans generados y palabras que solo se repiten una vez"
   ]
  },
  {
   "cell_type": "code",
   "execution_count": 50,
   "metadata": {},
   "outputs": [],
   "source": [
    "# Delete no repeated words and empty tweets\n",
    "words_one = pd.Series(' '.join(df_pandas['tweet']).split()).value_counts().where(lambda x : x==1).dropna().index\n",
    "df_pandas['tweet'] = df_pandas['tweet'].apply(lambda x: \" \".join(x for x in x.split() if x not in words_one))\n",
    "df_pandas = df_pandas.loc[df_pandas['tweet']!='']"
   ]
  },
  {
   "cell_type": "markdown",
   "metadata": {},
   "source": [
    "## Lemmatization\n",
    "Se opta por la lematización en lugar del Stemming porque es más completa que el Stemmin, ya que este solo se basa en acortar palabras cortando el inicio o el fin de la cadena y la lematización lo hace considerando el análisis morfológico."
   ]
  },
  {
   "cell_type": "code",
   "execution_count": 51,
   "metadata": {},
   "outputs": [
    {
     "name": "stderr",
     "output_type": "stream",
     "text": "[nltk_data] Downloading package wordnet to\n[nltk_data]     C:\\Users\\asens\\AppData\\Roaming\\nltk_data...\n[nltk_data]   Package wordnet is already up-to-date!\n"
    }
   ],
   "source": [
    "import nltk\n",
    "nltk.download('wordnet')\n",
    "from nltk.stem import WordNetLemmatizer\n",
    "\n",
    "def lemmatizeWord(inputString):\n",
    "    lemmatizer = WordNetLemmatizer()\n",
    "    \n",
    "    for word in inputString.split():\n",
    "        # Parámetro v para obtener verbos en lugar de sustantivos\n",
    "        inputString = inputString.replace(word, lemmatizer.lemmatize(word,'v'))\n",
    "\n",
    "    return inputString"
   ]
  },
  {
   "cell_type": "code",
   "execution_count": 52,
   "metadata": {},
   "outputs": [],
   "source": [
    "df_pandas['tweet'] = df_pandas['tweet'].apply(lambda x: lemmatizeWord(x))"
   ]
  },
  {
   "cell_type": "code",
   "execution_count": 53,
   "metadata": {},
   "outputs": [
    {
     "data": {
      "text/plain": "(5879, 2)"
     },
     "execution_count": 53,
     "metadata": {},
     "output_type": "execute_result"
    }
   ],
   "source": [
    "df_pandas.shape"
   ]
  },
  {
   "cell_type": "markdown",
   "metadata": {},
   "source": [
    "Hemos perdido 10 filas, inicialmente había 5889"
   ]
  },
  {
   "cell_type": "markdown",
   "metadata": {},
   "source": [
    "# Guardamos dataset actual\n",
    "Guardamos el actual dataframe en un nuevo archivo para no tener que repetir el proceso de limpieza."
   ]
  },
  {
   "cell_type": "code",
   "execution_count": 54,
   "metadata": {},
   "outputs": [],
   "source": [
    "df_pandas.to_csv('./data/dataset_2_limpieza_inicial.csv', sep=',', decimal='.', index=False)"
   ]
  },
  {
   "cell_type": "code",
   "execution_count": null,
   "metadata": {},
   "outputs": [],
   "source": []
  }
 ]
}